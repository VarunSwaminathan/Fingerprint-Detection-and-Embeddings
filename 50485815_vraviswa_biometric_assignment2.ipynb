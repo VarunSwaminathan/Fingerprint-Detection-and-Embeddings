{
  "nbformat": 4,
  "nbformat_minor": 0,
  "metadata": {
    "colab": {
      "provenance": []
    },
    "kernelspec": {
      "name": "python3",
      "display_name": "Python 3"
    },
    "language_info": {
      "name": "python"
    }
  },
  "cells": [
    {
      "cell_type": "code",
      "execution_count": null,
      "metadata": {
        "id": "C_UDhxcCFpkb"
      },
      "outputs": [],
      "source": [
        "!pip install mediapipe"
      ]
    },
    {
      "cell_type": "code",
      "source": [
        "# from google.colab import files\n",
        "# uploaded = files.upload()"
      ],
      "metadata": {
        "id": "4UG1Lf5yFqiO"
      },
      "execution_count": null,
      "outputs": []
    },
    {
      "cell_type": "code",
      "source": [
        "# from zipfile import ZipFile\n",
        "# file_name = \"/content/sample_test_images_distal_segmentation.zip\"\n",
        "\n",
        "# with ZipFile(file_name, 'r') as zip:\n",
        "#   zip.extractall()\n",
        "#   print('Done')"
      ],
      "metadata": {
        "id": "Lh7pTC1XFsd5"
      },
      "execution_count": null,
      "outputs": []
    },
    {
      "cell_type": "code",
      "source": [
        "import os\n",
        "import cv2\n",
        "import mediapipe as mp\n",
        "\n",
        "mp_hands = mp.solutions.hands"
      ],
      "metadata": {
        "id": "JR0VJE_sFvd8"
      },
      "execution_count": 4,
      "outputs": []
    },
    {
      "cell_type": "code",
      "source": [
        "def fingertips_detection(input_folder, output_folder):\n",
        "  if not os.path.exists(output_folder):\n",
        "      os.makedirs(output_folder)\n",
        "\n",
        "  with mp_hands.Hands(static_image_mode=True, max_num_hands=2, min_detection_confidence=0.5) as hands:\n",
        "    for filename in os.listdir(input_folder):\n",
        "        if filename.endswith('.jpg') or filename.endswith('.jpeg') or filename.endswith('.png'):\n",
        "            image = cv2.imread(os.path.join(input_folder, filename))\n",
        "            image = cv2.cvtColor(image, cv2.COLOR_BGR2RGB)\n",
        "\n",
        "            results = hands.process(image)\n",
        "\n",
        "            if results.multi_hand_landmarks:\n",
        "                annotated_image = image.copy()\n",
        "                for hand_landmarks in results.multi_hand_landmarks:\n",
        "                    for idx, landmark in enumerate(hand_landmarks.landmark):\n",
        "                        if idx in [4, 8, 12, 16, 20]:\n",
        "                            x, y = int(landmark.x * image.shape[1]), int(landmark.y * image.shape[0])\n",
        "                            bbox_size = 100 \n",
        "                            x_min, x_max = max(0, x-bbox_size//2), min(image.shape[1], x+bbox_size//2)\n",
        "                            y_min, y_max = max(0, y-bbox_size//2), min(image.shape[0], y+bbox_size//2)\n",
        "                            cv2.rectangle(annotated_image, (x_min, y_min), (x_max, y_max), (0, 255, 0), thickness=2)\n",
        "\n",
        "                output_path = os.path.join(output_folder, filename)\n",
        "                cv2.imwrite(output_path, cv2.cvtColor(annotated_image, cv2.COLOR_RGB2BGR))\n"
      ],
      "metadata": {
        "id": "qVdeJ8l5FxZl"
      },
      "execution_count": 5,
      "outputs": []
    },
    {
      "cell_type": "code",
      "source": [
        "train_folder = \"C:\\Users\\varun\\Downloads\\50485815_vraviswa_assignment2\\Train_dataset\"\n",
        "train_saved = \"C:\\Users\\varun\\Downloads\\50485815_vraviswa_assignment2\\train saved\""
      ],
      "metadata": {
        "id": "uC-JPp4qMjZO"
      },
      "execution_count": null,
      "outputs": []
    },
    {
      "cell_type": "code",
      "source": [
        "fingertips_detection(train_folder, train_saved)"
      ],
      "metadata": {
        "id": "oP8MJvb4F0_K"
      },
      "execution_count": 6,
      "outputs": []
    },
    {
      "cell_type": "code",
      "source": [
        "test_images = 'C:\\Users\\varun\\Downloads\\50485815_vraviswa_assignment2\\sample_test_images_distal_segmentation'\n",
        "test_saved = \"C:\\Users\\varun\\Downloads\\50485815_vraviswa_assignment2\\test saved\""
      ],
      "metadata": {
        "id": "veYo4IqpLJeM"
      },
      "execution_count": null,
      "outputs": []
    },
    {
      "cell_type": "code",
      "source": [
        "fingertips_detection(test_images, test_saved)"
      ],
      "metadata": {
        "id": "4YIdxbpPMm4n"
      },
      "execution_count": null,
      "outputs": []
    }
  ]
}